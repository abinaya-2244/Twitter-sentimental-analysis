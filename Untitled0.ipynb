{
  "nbformat": 4,
  "nbformat_minor": 0,
  "metadata": {
    "colab": {
      "name": "Untitled0.ipynb",
      "provenance": [],
      "collapsed_sections": []
    },
    "kernelspec": {
      "name": "python3",
      "display_name": "Python 3"
    },
    "language_info": {
      "name": "python"
    }
  },
  "cells": [
    {
      "cell_type": "code",
      "metadata": {
        "id": "vjPfwKXOYJBn"
      },
      "source": [
        "import pandas as pd \n",
        "import numpy as np \n",
        "\n",
        "import matplotlib.pyplot as plt \n",
        "import re\n",
        "import string\n",
        "\n",
        "import nltk\n",
        "from nltk.tokenize import sent_tokenize\n",
        "from nltk.corpus import words\n",
        "from nltk.corpus import stopwords\n",
        "from nltk.tokenize import word_tokenize\n",
        "from nltk.stem import WordNetLemmatizer\n",
        "from nltk.stem import PorterStemmer\n",
        "from nltk.sentiment.vader import SentimentIntensityAnalyzer\n",
        "from nltk.sentiment.util import *\n",
        "nltk.download('stopwords')\n",
        "nltk.download('vader_lexicon')\n",
        "from collections import Counter\n",
        "from matplotlib import pyplot as plt\n",
        "from matplotlib import ticker\n",
        "import seaborn as sns\n",
        "import plotly.express as px\n",
        "\n",
        "sns.set(style=\"darkgrid\")"
      ],
      "execution_count": null,
      "outputs": []
    },
    {
      "cell_type": "code",
      "metadata": {
        "id": "OEf8xPZAYdIw"
      },
      "source": [
        "df = pd.read_csv('https://raw.githubusercontent.com/gabrielpreda/covid-19-tweets/master/covid19_tweets.csv')\n",
        "df.head()"
      ],
      "execution_count": null,
      "outputs": []
    },
    {
      "cell_type": "code",
      "metadata": {
        "id": "jQCMjIdkZGzK"
      },
      "source": [
        "df.shape"
      ],
      "execution_count": null,
      "outputs": []
    },
    {
      "cell_type": "code",
      "metadata": {
        "id": "nokc0qOJamWa"
      },
      "source": [
        "needed_columns=['user_name','date','text']\n",
        "df=df[needed_columns]\n",
        "df.head()"
      ],
      "execution_count": null,
      "outputs": []
    },
    {
      "cell_type": "code",
      "metadata": {
        "id": "jDbM1ie-asJj"
      },
      "source": [
        "df.user_name=df.user_name.astype('category')\n",
        "df.user_name=df.user_name.cat.codes\n",
        "df.date=pd.to_datetime(df.date).dt.date\n",
        "df.head()\n"
      ],
      "execution_count": null,
      "outputs": []
    },
    {
      "cell_type": "code",
      "metadata": {
        "id": "mR2gACGGdb18"
      },
      "source": [
        "texts=df['text']\n",
        "texts"
      ],
      "execution_count": null,
      "outputs": []
    },
    {
      "cell_type": "code",
      "metadata": {
        "id": "B4tdKkPKe2KO"
      },
      "source": [
        "remove_url = lambda x:re.sub(r'https\\S+' , '', str(x))\n",
        "texts_lr=texts.apply(remove_url)\n",
        "texts_lr"
      ],
      "execution_count": null,
      "outputs": []
    },
    {
      "cell_type": "code",
      "metadata": {
        "id": "rfrC6FIle4C7"
      },
      "source": [
        "to_lower = lambda x:x.lower()\n",
        "texts_lr_lc = texts_lr.apply(to_lower)\n",
        "texts_lr_lc"
      ],
      "execution_count": null,
      "outputs": []
    },
    {
      "cell_type": "code",
      "metadata": {
        "id": "xURmm3OKjGmL"
      },
      "source": [
        "remove_puncs = lambda x:x.translate(str.maketrans('','',string.punctuation))\n",
        "texts_lr_lc_np = texts_lr_lc.apply(remove_puncs)\n",
        "texts_lr_lc_np"
      ],
      "execution_count": null,
      "outputs": []
    },
    {
      "cell_type": "code",
      "metadata": {
        "id": "uhhynXJJquJD"
      },
      "source": [
        "from nltk.corpus import stopwords"
      ],
      "execution_count": 10,
      "outputs": []
    },
    {
      "cell_type": "code",
      "metadata": {
        "id": "6MZtU6-1pJSd"
      },
      "source": [
        "more_words= ['covid','#coronavirus', '#coronavirusoutbreak', '#coronavirusPandemic', '#covid19', '#covid_19', '#epitwitter', '#ihavecorona', 'amp', 'coronavirus', 'covid19']\n",
        "stop_words = set(stopwords.words('english'))\n",
        "stop_words.update(more_words)\n",
        "\n",
        "remove_words=lambda x:''.join([word for word in x.split() if word not in stop_words])\n",
        "texts_lr_lc_np_ns=texts_lr_lc_np.apply(remove_words)\n",
        "texts_lr_lc_np_ns\n"
      ],
      "execution_count": null,
      "outputs": []
    },
    {
      "cell_type": "code",
      "metadata": {
        "id": "udsobWOVtqfb"
      },
      "source": [
        "words_list=[word for line in texts_lr_lc_np_ns for word in line.split()]\n",
        "words_list[:5]"
      ],
      "execution_count": null,
      "outputs": []
    },
    {
      "cell_type": "code",
      "metadata": {
        "id": "p-Uq6XJAyeGy"
      },
      "source": [
        "import nltk\n",
        "nltk.download('words')\n",
        "\n",
        "word_counts=Counter(words_list).most_common(50)\n",
        "words_df=pd.DataFrame(word_counts)\n",
        "words_df.columns = ['words','frq']\n",
        "px.bar(words_df,x='words',y='frq',title = 'most common words')"
      ],
      "execution_count": null,
      "outputs": []
    },
    {
      "cell_type": "code",
      "source": [
        "df.text=texts_lr_lc_np_ns\n",
        "df.head()"
      ],
      "metadata": {
        "id": "pkk5BbKIci3J"
      },
      "execution_count": null,
      "outputs": []
    },
    {
      "cell_type": "code",
      "source": [
        "sid=SentimentIntensityAnalyzer()\n",
        "ps=lambda x:sid.polarity_scores(x)\n",
        "sentiment_scores = df.text.apply(ps)\n",
        "sentiment_scores"
      ],
      "metadata": {
        "id": "I7FIT14vdqkz"
      },
      "execution_count": null,
      "outputs": []
    },
    {
      "cell_type": "code",
      "source": [
        "sentiment_df = pd.DataFrame(data=list(sentiment_scores))\n",
        "sentiment_df.head()"
      ],
      "metadata": {
        "id": "yga7wXV4epIh"
      },
      "execution_count": null,
      "outputs": []
    },
    {
      "cell_type": "code",
      "source": [
        "labelize = lambda x: 'neutral' if x==0 else('positive' if x>0 else('negative'))\n",
        "sentiment_df['label']=sentiment_df.compound.apply(labelize)\n",
        "sentiment_df.head()"
      ],
      "metadata": {
        "id": "rJMdlMDJfLoA"
      },
      "execution_count": null,
      "outputs": []
    },
    {
      "cell_type": "code",
      "source": [
        "data = df.join(sentiment_df.label)\n",
        "data.head()"
      ],
      "metadata": {
        "id": "6CDHE0reh2Og"
      },
      "execution_count": null,
      "outputs": []
    },
    {
      "cell_type": "code",
      "source": [
        "counts_df = data.label.value_counts().reset_index()\n",
        "counts_df"
      ],
      "metadata": {
        "id": "S-vglCFjjB39"
      },
      "execution_count": null,
      "outputs": []
    },
    {
      "cell_type": "code",
      "source": [
        "sns.barplot(x='index', y='label', data=counts_df)"
      ],
      "metadata": {
        "id": "p4fWS76AjbsH"
      },
      "execution_count": null,
      "outputs": []
    },
    {
      "cell_type": "code",
      "source": [
        "data.head()"
      ],
      "metadata": {
        "id": "XBnz7M3Xj0FR"
      },
      "execution_count": null,
      "outputs": []
    },
    {
      "cell_type": "code",
      "source": [
        "data_agg=data[['user_name','date','label']].groupby(['date','label']).count().reset_index()\n",
        "\n",
        "data_agg.columns=['date','label','counts']\n",
        "data_agg.head()"
      ],
      "metadata": {
        "id": "noWfVqjAj70f"
      },
      "execution_count": null,
      "outputs": []
    },
    {
      "cell_type": "code",
      "source": [
        "px.line(data_agg,x='date',y='counts',color='label',title='daily twits sentimental analysis')"
      ],
      "metadata": {
        "id": "AN9chE5jm229"
      },
      "execution_count": null,
      "outputs": []
    }
  ]
}